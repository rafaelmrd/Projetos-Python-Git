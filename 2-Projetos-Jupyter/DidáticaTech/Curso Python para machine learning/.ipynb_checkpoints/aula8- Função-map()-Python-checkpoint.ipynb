{
 "cells": [
  {
   "cell_type": "code",
   "execution_count": 1,
   "metadata": {},
   "outputs": [],
   "source": [
    "# Função map() Python\n",
    "# https://www.youtube.com/watch?v=Dp92Yd4-T3s&list=PLyqOvdQmGdTR46HUxDA6Ymv4DGsIjvTQ-&index=8"
   ]
  },
  {
   "cell_type": "code",
   "execution_count": 2,
   "metadata": {},
   "outputs": [],
   "source": [
    "kmh = [20, 40, 50, 60, 70, 80, 90, 100, 110, 120]"
   ]
  },
  {
   "cell_type": "code",
   "execution_count": 19,
   "metadata": {},
   "outputs": [
    {
     "name": "stdout",
     "output_type": "stream",
     "text": [
      "[12, 24, 31, 37, 43, 49, 55, 62, 68, 74]\n"
     ]
    }
   ],
   "source": [
    "# Transformando os kmh para milhas por hora(mph)\n",
    "mph = []\n",
    "for i in kmh:\n",
    "    mph.append(int (i/1.61) )\n",
    "    \n",
    "# print('{}' .format(mph))\n",
    "# print('%s ' %mph)\n",
    "print(mph)"
   ]
  },
  {
   "cell_type": "code",
   "execution_count": 20,
   "metadata": {},
   "outputs": [
    {
     "name": "stdout",
     "output_type": "stream",
     "text": [
      "[12.422360248447204, 24.844720496894407, 31.05590062111801, 37.267080745341616, 43.47826086956521, 49.689440993788814, 55.90062111801242, 62.11180124223602, 68.32298136645963, 74.53416149068323]\n"
     ]
    }
   ],
   "source": [
    "# Usando a função map.\n",
    "# função map: aplicar um conjunto de dados a uma função.\n",
    "\n",
    "mph2 = list(map(lambda x: x/1.61, kmh))\n",
    "# list para transformar em uma lista\n",
    "# aplicando a função lambda nos meus dados(kmh)\n",
    "\n",
    "print(mph2)"
   ]
  }
 ],
 "metadata": {
  "kernelspec": {
   "display_name": "Python 3",
   "language": "python",
   "name": "python3"
  },
  "language_info": {
   "codemirror_mode": {
    "name": "ipython",
    "version": 3
   },
   "file_extension": ".py",
   "mimetype": "text/x-python",
   "name": "python",
   "nbconvert_exporter": "python",
   "pygments_lexer": "ipython3",
   "version": "3.7.6"
  }
 },
 "nbformat": 4,
 "nbformat_minor": 4
}
