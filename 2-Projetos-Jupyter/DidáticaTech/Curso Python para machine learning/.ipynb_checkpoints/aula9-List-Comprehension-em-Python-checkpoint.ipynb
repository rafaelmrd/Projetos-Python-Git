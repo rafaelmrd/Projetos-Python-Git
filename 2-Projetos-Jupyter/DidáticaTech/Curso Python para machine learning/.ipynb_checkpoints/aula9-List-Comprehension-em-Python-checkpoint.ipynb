{
 "cells": [
  {
   "cell_type": "code",
   "execution_count": 1,
   "metadata": {},
   "outputs": [],
   "source": [
    "# List Comprehension em Python (curso Python para machine learning - Aula 9)\n",
    "# https://www.youtube.com/watch?v=NlRUAq6-meg&list=PLyqOvdQmGdTR46HUxDA6Ymv4DGsIjvTQ-&index=9"
   ]
  },
  {
   "cell_type": "code",
   "execution_count": 3,
   "metadata": {},
   "outputs": [
    {
     "name": "stdout",
     "output_type": "stream",
     "text": [
      "[12.422360248447204, 24.844720496894407, 31.05590062111801, 37.267080745341616, 43.47826086956521, 49.689440993788814, 55.90062111801242, 62.11180124223602, 68.32298136645963, 74.53416149068323]\n"
     ]
    }
   ],
   "source": [
    "# AULA ANTERIOR:\n",
    "\n",
    "\n",
    "kmh = [20, 40, 50, 60, 70, 80, 90, 100, 110, 120]\n",
    "\n",
    "# Usando a função map.\n",
    "# função map: aplicar um conjunto de dados a uma função.\n",
    "\n",
    "mph2 = list(map(lambda x: x/1.61, kmh))\n",
    "# list para transformar em uma lista\n",
    "# aplicando a função lambda nos meus dados(kmh)\n",
    "\n",
    "print(mph2)"
   ]
  },
  {
   "cell_type": "code",
   "execution_count": 10,
   "metadata": {},
   "outputs": [
    {
     "name": "stdout",
     "output_type": "stream",
     "text": [
      "[12, 24, 31, 37, 43, 49, 55, 62, 68, 74]\n"
     ]
    }
   ],
   "source": [
    "# List Comprehension em Python\n",
    "\n",
    "mph3 = [int(x/1.61) for x in kmh]\n",
    "# aplico a função x/1.61 para todo elemento de kmh(lista)\n",
    "print( mph3 )"
   ]
  },
  {
   "cell_type": "code",
   "execution_count": 11,
   "metadata": {},
   "outputs": [
    {
     "name": "stdout",
     "output_type": "stream",
     "text": [
      "['T', 'e', 's', 't', 'e']\n"
     ]
    }
   ],
   "source": [
    "caracteres = [i for i in 'Teste']\n",
    "# varre cada um dos caracteres de 'Teste'\n",
    "\n",
    "print(caracteres)"
   ]
  }
 ],
 "metadata": {
  "kernelspec": {
   "display_name": "Python 3",
   "language": "python",
   "name": "python3"
  },
  "language_info": {
   "codemirror_mode": {
    "name": "ipython",
    "version": 3
   },
   "file_extension": ".py",
   "mimetype": "text/x-python",
   "name": "python",
   "nbconvert_exporter": "python",
   "pygments_lexer": "ipython3",
   "version": "3.7.6"
  }
 },
 "nbformat": 4,
 "nbformat_minor": 4
}
