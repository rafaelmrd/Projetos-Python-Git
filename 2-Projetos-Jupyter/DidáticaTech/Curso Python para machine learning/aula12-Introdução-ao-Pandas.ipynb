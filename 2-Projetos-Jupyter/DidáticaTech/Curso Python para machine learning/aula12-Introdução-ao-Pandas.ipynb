{
 "cells": [
  {
   "cell_type": "code",
   "execution_count": 1,
   "metadata": {},
   "outputs": [],
   "source": [
    "# # Introdução ao Pandas\n",
    "# # https://www.youtube.com/watch?v=an54pc9BW4I&list=PLyqOvdQmGdTR46HUxDA6Ymv4DGsIjvTQ-&index=12\n",
    "# Documentação:\n",
    "# https://pandas.pydata.org/pandas-docs/stable/"
   ]
  },
  {
   "cell_type": "code",
   "execution_count": null,
   "metadata": {},
   "outputs": [],
   "source": [
    "# Pandas é utilizado para trabalhar com data frame(tabelas, com linhas e colunas)"
   ]
  },
  {
   "cell_type": "code",
   "execution_count": 19,
   "metadata": {},
   "outputs": [],
   "source": [
    "import pandas as pd\n",
    "# criando nosso proprio data frame.\n",
    "alunos = {'Nome':['Rafael', 'Robert', 'Roger', 'Pedro'], # dicionário alunos\n",
    "         'Nota':[8, 7, 3, 1],\n",
    "         'Aprovado':['Sim', 'Sim', 'Não', 'Não']}"
   ]
  },
  {
   "cell_type": "code",
   "execution_count": 7,
   "metadata": {},
   "outputs": [],
   "source": [
    "# transformando dicionário em data frame\n",
    "dataFrame = pd.DataFrame(alunos)"
   ]
  },
  {
   "cell_type": "code",
   "execution_count": 8,
   "metadata": {},
   "outputs": [
    {
     "name": "stdout",
     "output_type": "stream",
     "text": [
      "     Nome  Nota Aprovado\n",
      "0  Rafael     8      Sim\n",
      "1  Robert     7      Sim\n",
      "2   Roger     3      Não\n",
      "3   Pedro     1      Não\n"
     ]
    }
   ],
   "source": [
    "print(dataFrame)"
   ]
  },
  {
   "cell_type": "code",
   "execution_count": 9,
   "metadata": {},
   "outputs": [
    {
     "name": "stdout",
     "output_type": "stream",
     "text": [
      "0    2\n",
      "1    4\n",
      "2    6\n",
      "3    8\n",
      "dtype: int64\n"
     ]
    }
   ],
   "source": [
    "objeto1 = pd.Series([2, 4, 6, 8]) # Series() - cria um tipo de vetor unid. com índices. Diferente do array\n",
    "print(objeto1)"
   ]
  },
  {
   "cell_type": "code",
   "execution_count": 23,
   "metadata": {},
   "outputs": [
    {
     "name": "stdout",
     "output_type": "stream",
     "text": [
      "[2 4 6 8]\n",
      "\n",
      "\n",
      "[[2 4 6 8]\n",
      " [1 2 3 4]]\n"
     ]
    }
   ],
   "source": [
    "import numpy as np\n",
    "array1 = np.array([2, 4, 6, 8])\n",
    "array2 = np.array([(2, 4, 6, 8), (1, 2, 3, 4)])\n",
    "print(array1)\n",
    "print('\\n')\n",
    "print(array2)"
   ]
  },
  {
   "cell_type": "code",
   "execution_count": 24,
   "metadata": {},
   "outputs": [
    {
     "name": "stdout",
     "output_type": "stream",
     "text": [
      "0    2\n",
      "1    4\n",
      "2    6\n",
      "3    8\n",
      "dtype: int32\n"
     ]
    }
   ],
   "source": [
    "objeto2 = pd.Series(array1) # convertendo array(unidimensional) em series.\n",
    "print(objeto2)"
   ]
  }
 ],
 "metadata": {
  "kernelspec": {
   "display_name": "Python 3",
   "language": "python",
   "name": "python3"
  },
  "language_info": {
   "codemirror_mode": {
    "name": "ipython",
    "version": 3
   },
   "file_extension": ".py",
   "mimetype": "text/x-python",
   "name": "python",
   "nbconvert_exporter": "python",
   "pygments_lexer": "ipython3",
   "version": "3.7.6"
  }
 },
 "nbformat": 4,
 "nbformat_minor": 4
}
