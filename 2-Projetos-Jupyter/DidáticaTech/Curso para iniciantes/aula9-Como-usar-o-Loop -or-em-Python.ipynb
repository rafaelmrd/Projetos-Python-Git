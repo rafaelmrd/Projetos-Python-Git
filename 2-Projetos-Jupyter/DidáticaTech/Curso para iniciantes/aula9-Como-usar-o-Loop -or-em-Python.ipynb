{
 "cells": [
  {
   "cell_type": "code",
   "execution_count": 1,
   "metadata": {},
   "outputs": [],
   "source": [
    "# Como usar o Loop for em Python"
   ]
  },
  {
   "cell_type": "code",
   "execution_count": 16,
   "metadata": {},
   "outputs": [
    {
     "name": "stdout",
     "output_type": "stream",
     "text": [
      "Valor de i: 0.   Valor da variável a: 1\n",
      "Valor de i: 1.   Valor da variável a: 2\n",
      "Valor de i: 2.   Valor da variável a: 3\n",
      "Valor de i: 3.   Valor da variável a: 4\n",
      "Valor de i: 4.   Valor da variável a: 5\n"
     ]
    }
   ],
   "source": [
    "a = 1\n",
    "for i in range(5): # fazer esse processo 5 vezes. De 0 até 4\n",
    "    \n",
    "    print('Valor de i: {}.   Valor da variável a: {}' .format(i, a))\n",
    "    a = a + 1"
   ]
  },
  {
   "cell_type": "code",
   "execution_count": 15,
   "metadata": {},
   "outputs": [
    {
     "name": "stdout",
     "output_type": "stream",
     "text": [
      "5\n"
     ]
    }
   ],
   "source": [
    "a = 0\n",
    "for i in range(5):\n",
    "    a = a + 1\n",
    "#     print(a)\n",
    "print(a)"
   ]
  },
  {
   "cell_type": "code",
   "execution_count": 20,
   "metadata": {},
   "outputs": [
    {
     "name": "stdout",
     "output_type": "stream",
     "text": [
      "f\n",
      "r\n",
      "a\n",
      "s\n",
      "e\n"
     ]
    }
   ],
   "source": [
    "palavra = 'frase'\n",
    "for i in palavra: # a variável i irá percorrer a variável palavra e imprimir cada elemento da mesma\n",
    "                  # (rodar elementos dentro de uma variável palavra)\n",
    "    print(i)"
   ]
  },
  {
   "cell_type": "code",
   "execution_count": 23,
   "metadata": {},
   "outputs": [
    {
     "name": "stdout",
     "output_type": "stream",
     "text": [
      "1\n",
      "2\n",
      "oi\n",
      "3\n",
      "4\n",
      "5\n"
     ]
    }
   ],
   "source": [
    "lista = [1, 2, 'oi', 3, 4, 5]  # lista - conjunto de elementos\n",
    "for num in lista:\n",
    "    print(num)"
   ]
  },
  {
   "cell_type": "code",
   "execution_count": null,
   "metadata": {},
   "outputs": [],
   "source": []
  }
 ],
 "metadata": {
  "kernelspec": {
   "display_name": "Python 3",
   "language": "python",
   "name": "python3"
  },
  "language_info": {
   "codemirror_mode": {
    "name": "ipython",
    "version": 3
   },
   "file_extension": ".py",
   "mimetype": "text/x-python",
   "name": "python",
   "nbconvert_exporter": "python",
   "pygments_lexer": "ipython3",
   "version": "3.7.6"
  }
 },
 "nbformat": 4,
 "nbformat_minor": 4
}
