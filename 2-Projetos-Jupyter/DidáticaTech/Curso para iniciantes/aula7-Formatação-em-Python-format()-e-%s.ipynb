{
 "cells": [
  {
   "cell_type": "code",
   "execution_count": 1,
   "metadata": {},
   "outputs": [],
   "source": [
    "# Formatação em Python .format() e %s"
   ]
  },
  {
   "cell_type": "code",
   "execution_count": 2,
   "metadata": {},
   "outputs": [],
   "source": [
    "fruta = 'laranja'"
   ]
  },
  {
   "cell_type": "code",
   "execution_count": 4,
   "metadata": {},
   "outputs": [
    {
     "name": "stdout",
     "output_type": "stream",
     "text": [
      "Sua fruta é:  laranja\n"
     ]
    }
   ],
   "source": [
    "print('Sua fruta é: ',fruta)"
   ]
  },
  {
   "cell_type": "code",
   "execution_count": 6,
   "metadata": {},
   "outputs": [
    {
     "name": "stdout",
     "output_type": "stream",
     "text": [
      "Sua fruta é: laranja\n"
     ]
    }
   ],
   "source": [
    "print('Sua fruta é: {}' .format(fruta))"
   ]
  },
  {
   "cell_type": "code",
   "execution_count": 7,
   "metadata": {},
   "outputs": [
    {
     "name": "stdout",
     "output_type": "stream",
     "text": [
      "Sua fruta é: laranja: \n"
     ]
    }
   ],
   "source": [
    "print('Sua fruta é: %s: ' %fruta) # s de string"
   ]
  },
  {
   "cell_type": "code",
   "execution_count": 9,
   "metadata": {},
   "outputs": [],
   "source": [
    "valor = 5"
   ]
  },
  {
   "cell_type": "code",
   "execution_count": 11,
   "metadata": {},
   "outputs": [
    {
     "name": "stdout",
     "output_type": "stream",
     "text": [
      "Valor é: 5\n"
     ]
    }
   ],
   "source": [
    "print('Valor é: %d' %valor) # d de decimal"
   ]
  },
  {
   "cell_type": "code",
   "execution_count": 13,
   "metadata": {},
   "outputs": [],
   "source": [
    "cor1 = 'azul'\n",
    "cor2 = 'vermelho'\n",
    "cor3 = 'verde'"
   ]
  },
  {
   "cell_type": "code",
   "execution_count": 15,
   "metadata": {},
   "outputs": [
    {
     "name": "stdout",
     "output_type": "stream",
     "text": [
      "O céu é rosa, a flor é verde e o carro é vermelho\n"
     ]
    }
   ],
   "source": [
    "print('O céu é {0}, a flor é {2} e o carro é {1}' .format(cor1,cor2,cor3))"
   ]
  },
  {
   "cell_type": "code",
   "execution_count": 17,
   "metadata": {},
   "outputs": [
    {
     "name": "stdout",
     "output_type": "stream",
     "text": [
      "5.666666666666667\n"
     ]
    }
   ],
   "source": [
    "conta = 17/3\n",
    "print(conta)"
   ]
  },
  {
   "cell_type": "code",
   "execution_count": 21,
   "metadata": {},
   "outputs": [
    {
     "name": "stdout",
     "output_type": "stream",
     "text": [
      "O resultado da conta é: 5.67\n"
     ]
    }
   ],
   "source": [
    "print('O resultado da conta é: {:.2f}' .format(conta)) # depois da virgula terá duas casas decimais"
   ]
  }
 ],
 "metadata": {
  "kernelspec": {
   "display_name": "Python 3",
   "language": "python",
   "name": "python3"
  },
  "language_info": {
   "codemirror_mode": {
    "name": "ipython",
    "version": 3
   },
   "file_extension": ".py",
   "mimetype": "text/x-python",
   "name": "python",
   "nbconvert_exporter": "python",
   "pygments_lexer": "ipython3",
   "version": "3.7.6"
  }
 },
 "nbformat": 4,
 "nbformat_minor": 4
}
