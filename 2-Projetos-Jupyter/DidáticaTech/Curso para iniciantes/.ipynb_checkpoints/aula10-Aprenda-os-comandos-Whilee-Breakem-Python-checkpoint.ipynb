{
 "cells": [
  {
   "cell_type": "code",
   "execution_count": 1,
   "metadata": {},
   "outputs": [],
   "source": [
    "# Aprenda os comandos While e Break em Python"
   ]
  },
  {
   "cell_type": "code",
   "execution_count": 8,
   "metadata": {},
   "outputs": [
    {
     "name": "stdout",
     "output_type": "stream",
     "text": [
      "Ainda não deu!\n",
      "Ainda não deu!\n",
      "Ainda não deu!\n",
      "Ainda não deu!\n",
      "Ainda não deu!\n",
      "Ainda não deu!\n",
      "Ainda não deu!\n",
      "Agora deu!\n"
     ]
    }
   ],
   "source": [
    "import time\n",
    "contador = 0\n",
    "while contador < 10:\n",
    "    print('Ainda não deu!')\n",
    "    if contador == 6:\n",
    "        break               # para quando o contador é = 6\n",
    "    time.sleep(1)           # aguarda 1 segundo para continuar o código\n",
    "    contador += 1           # contador = contador + 1\n",
    "print('Agora deu!')"
   ]
  },
  {
   "cell_type": "code",
   "execution_count": 22,
   "metadata": {},
   "outputs": [
    {
     "name": "stdout",
     "output_type": "stream",
     "text": [
      "Digite um número positivo: 4\n",
      " 4! = 4 x 3 x 2 x 1 = 24\n"
     ]
    }
   ],
   "source": [
    "# Calculando  o fatorial de um número qualquer\n",
    "# fatorial de x = (x*(x-1)*(x-2)*...(x-x))\n",
    "num = int(input('Digite um número positivo: '))\n",
    "fatorial = num\n",
    "contador = 1\n",
    "\n",
    "if num >= 0:\n",
    "    if num == 0:\n",
    "        print(1)\n",
    "    else:\n",
    "        print(' {}! = ' .format(num) , end='')\n",
    "        \n",
    "        while num != 0:\n",
    "            print('{}' .format(num), end='')\n",
    "            print(' x ' if num>1 else ' = ', end='' )\n",
    "            \n",
    "            contador = contador*num\n",
    "            num = num - 1\n",
    "            \n",
    "        print('{}' .format(contador))\n",
    "else:\n",
    "    print('Entrada inválida!')"
   ]
  },
  {
   "cell_type": "code",
   "execution_count": null,
   "metadata": {},
   "outputs": [],
   "source": [
    "# Calculando  o fatorial de um número qualquer\n",
    "# fatorial de x = (x*(x-1)*(x-2)*...(x-x))\n",
    "\n",
    "num = int(input('Digite um número positivo: '))\n",
    "fatorial = num\n",
    "contador = 1\n",
    "\n",
    "while (num-contador) > 1:\n",
    "    fatorial = fatorial*(num-contador)\n",
    "    contador = contador + 1\n",
    "print('{}! = {}' .format(num, fatorial))\n"
   ]
  },
  {
   "cell_type": "code",
   "execution_count": 5,
   "metadata": {},
   "outputs": [
    {
     "name": "stdout",
     "output_type": "stream",
     "text": [
      "Digite um número positivo: 4\n",
      "Calculando 4! = 4 x 3 x 2 x 1 = 24\n"
     ]
    }
   ],
   "source": [
    "# Calculando  o fatorial de um número qualquer\n",
    "# fatorial de x = (x*(x-1)*(x-2)*...(x-x))\n",
    "# https://www.youtube.com/watch?v=9dlBZlkvvxY  - com while\n",
    "# https://www.youtube.com/watch?v=84jUX96cs7Q  - com for\n",
    "\n",
    "num = int(input('Digite um número positivo: '))\n",
    "fatorial = num\n",
    "contador = 1\n",
    "\n",
    "print('Calculando {}! = ' .format(num), end='')\n",
    "\n",
    "while fatorial > 0:\n",
    "    print('{}'.format(fatorial), end='')\n",
    "    print(' x ' if fatorial > 1 else ' = ', end='')\n",
    "    \n",
    "    contador = contador*fatorial\n",
    "    fatorial = fatorial -1\n",
    "    \n",
    "print('{}' .format(contador))\n"
   ]
  }
 ],
 "metadata": {
  "kernelspec": {
   "display_name": "Python 3",
   "language": "python",
   "name": "python3"
  },
  "language_info": {
   "codemirror_mode": {
    "name": "ipython",
    "version": 3
   },
   "file_extension": ".py",
   "mimetype": "text/x-python",
   "name": "python",
   "nbconvert_exporter": "python",
   "pygments_lexer": "ipython3",
   "version": "3.7.6"
  }
 },
 "nbformat": 4,
 "nbformat_minor": 4
}
