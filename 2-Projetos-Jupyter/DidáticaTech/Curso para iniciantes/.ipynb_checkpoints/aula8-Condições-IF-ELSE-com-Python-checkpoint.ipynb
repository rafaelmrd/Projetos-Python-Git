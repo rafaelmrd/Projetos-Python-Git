{
 "cells": [
  {
   "cell_type": "code",
   "execution_count": 1,
   "metadata": {},
   "outputs": [],
   "source": [
    "# Condições IF ELSE com Python"
   ]
  },
  {
   "cell_type": "code",
   "execution_count": 3,
   "metadata": {},
   "outputs": [
    {
     "name": "stdout",
     "output_type": "stream",
     "text": [
      "Possui muitas calorias!\n"
     ]
    }
   ],
   "source": [
    "comida = 'pizza'\n",
    "if comida == 'pizza':                # se\n",
    "    print('Possui muitas calorias!')"
   ]
  },
  {
   "cell_type": "code",
   "execution_count": 5,
   "metadata": {},
   "outputs": [
    {
     "name": "stdout",
     "output_type": "stream",
     "text": [
      "Desconheço as calorias!\n"
     ]
    }
   ],
   "source": [
    "comida = 'pizza'\n",
    "if comida == 'pizza':                # se\n",
    "    print('Possui muitas calorias!')\n",
    "else:                                # se não\n",
    "    print('Desconheço as calorias!')"
   ]
  },
  {
   "cell_type": "code",
   "execution_count": 11,
   "metadata": {},
   "outputs": [
    {
     "name": "stdout",
     "output_type": "stream",
     "text": [
      "Desconheço as calorias!\n"
     ]
    }
   ],
   "source": [
    "comida = 'iz'\n",
    "if comida == 'pizza':                # se\n",
    "    print('Possui muitas calorias!')\n",
    "elif comida == 'piz': \n",
    "    print('Comida igual = piz')      # se não se\n",
    "else:                                # se não\n",
    "    print('Desconheço as calorias!')"
   ]
  },
  {
   "cell_type": "code",
   "execution_count": 12,
   "metadata": {},
   "outputs": [],
   "source": [
    "comida = 'pizza'"
   ]
  },
  {
   "cell_type": "code",
   "execution_count": null,
   "metadata": {},
   "outputs": [],
   "source": [
    "if comida != 'pizza':                # diferente de 'pizza'\n",
    "    print('Não é pizza!')\n",
    "else:\n",
    "    print('É pizza!')"
   ]
  },
  {
   "cell_type": "code",
   "execution_count": 13,
   "metadata": {},
   "outputs": [
    {
     "name": "stdout",
     "output_type": "stream",
     "text": [
      "Digite a ano que você nasceu: 1\n",
      "Idade muito alta, ou você esta mentindo ou já morreu! Sua idade é: 2019\n"
     ]
    }
   ],
   "source": [
    "ano = int(input('Digite a ano que você nasceu: '))\n",
    "idade = (2020-ano)\n",
    "\n",
    "if ano >= 1:\n",
    "    if idade >= 110:\n",
    "        print('Idade muito alta, ou você esta mentindo ou já morreu! Sua idade é: {}' .format(idade))\n",
    "    elif idade >= 18:\n",
    "        print('Você é adulto. Sua idade é: {}' .format(idade))\n",
    "    else:\n",
    "        print('Você ainda não é adulto. Sua idade é: {}' .format(idade))\n",
    "else:\n",
    "    print('Idade invalida!')"
   ]
  },
  {
   "cell_type": "code",
   "execution_count": null,
   "metadata": {},
   "outputs": [],
   "source": []
  }
 ],
 "metadata": {
  "kernelspec": {
   "display_name": "Python 3",
   "language": "python",
   "name": "python3"
  },
  "language_info": {
   "codemirror_mode": {
    "name": "ipython",
    "version": 3
   },
   "file_extension": ".py",
   "mimetype": "text/x-python",
   "name": "python",
   "nbconvert_exporter": "python",
   "pygments_lexer": "ipython3",
   "version": "3.7.6"
  }
 },
 "nbformat": 4,
 "nbformat_minor": 4
}
