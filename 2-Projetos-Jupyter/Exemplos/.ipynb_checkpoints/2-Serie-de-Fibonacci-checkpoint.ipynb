{
 "cells": [
  {
   "cell_type": "code",
   "execution_count": 1,
   "metadata": {},
   "outputs": [],
   "source": [
    "# Sequência de Fibonacci: \n",
    "# É uma sequência de números inteiros, começando normalmente por 0 e 1, na qual, \n",
    "# cada termo subsequente corresponde à soma dos dois anteriores.\n",
    "\n",
    "# 1, 1, 2, 3, 5, 8, 13, 21, 34, 55, 89, ..."
   ]
  },
  {
   "cell_type": "code",
   "execution_count": 42,
   "metadata": {},
   "outputs": [],
   "source": [
    "class Class_serie: # Eu desenvolvi!\n",
    "    \n",
    "    def serie(self, vezes):\n",
    "        self.vezes1 = vezes\n",
    "        num = 1\n",
    "        cont = 0\n",
    "        \n",
    "        while(self.vezes1 != 0):\n",
    "            num = cont + num\n",
    "            cont = cont + num\n",
    "            \n",
    "            print(num)  # imprime os valores de 1, 2, 5, 13, 34, ...\n",
    "            print(cont) # imprime os valores de 1, 3, 8, 21, 55, ...\n",
    "            \n",
    "            self.vezes1 = self.vezes1 - 2  # -2, pois cada vez que executa o while, imprime dois valores(num e cont)\n",
    "        #   print('vezes{}' .format(vezes))"
   ]
  },
  {
   "cell_type": "code",
   "execution_count": 30,
   "metadata": {},
   "outputs": [
    {
     "name": "stdout",
     "output_type": "stream",
     "text": [
      "Digite um número INTEIRO para se calcular quantas sequências de Fibonacci você quer: 10\n",
      "1\n",
      "1\n",
      "2\n",
      "3\n",
      "5\n",
      "8\n",
      "13\n",
      "21\n",
      "34\n",
      "55\n"
     ]
    }
   ],
   "source": [
    "numero = int(input('Digite um número INTEIRO para se calcular quantas sequências de Fibonacci você quer: '))\n",
    "a = Class_serie().serie(numero) # ou b = a.serie(10)"
   ]
  },
  {
   "cell_type": "code",
   "execution_count": 43,
   "metadata": {},
   "outputs": [],
   "source": [
    "c = Class_serie()"
   ]
  },
  {
   "cell_type": "code",
   "execution_count": 44,
   "metadata": {},
   "outputs": [
    {
     "name": "stdout",
     "output_type": "stream",
     "text": [
      "1\n",
      "1\n",
      "2\n",
      "3\n",
      "5\n",
      "8\n",
      "13\n",
      "21\n",
      "34\n",
      "55\n"
     ]
    }
   ],
   "source": [
    "d = c.serie(10)"
   ]
  },
  {
   "cell_type": "code",
   "execution_count": 45,
   "metadata": {},
   "outputs": [
    {
     "data": {
      "text/plain": [
       "0"
      ]
     },
     "execution_count": 45,
     "metadata": {},
     "output_type": "execute_result"
    }
   ],
   "source": [
    "c.vezes1"
   ]
  },
  {
   "cell_type": "code",
   "execution_count": null,
   "metadata": {},
   "outputs": [],
   "source": [
    "# Outras maneiras, segue o link abaixo:\n",
    "# https://pt.stackoverflow.com/questions/374435/fibonacci-python/374824#374824"
   ]
  },
  {
   "cell_type": "code",
   "execution_count": 3,
   "metadata": {},
   "outputs": [
    {
     "name": "stdout",
     "output_type": "stream",
     "text": [
      " Trabalho de Fibonacci \n",
      " Digite Quantos termos você deseja :21\n",
      "0.1.2.3.5.8.13.21. Fim \n"
     ]
    }
   ],
   "source": [
    "print (\" Trabalho de Fibonacci \")\n",
    "\n",
    "n =int( input(\" Digite Quantos termos você deseja :\"))\n",
    "t1 = 0\n",
    "t2 = 1\n",
    "t3 = 0\n",
    "\n",
    "while t3 <= n:\n",
    "    print(\"{}.\".format(t3), end=\"\")\n",
    "    t3 = t1 + t2\n",
    "    t1 = t2\n",
    "    t2 = t3\n",
    "\n",
    "print( \" Fim \")"
   ]
  },
  {
   "cell_type": "code",
   "execution_count": 2,
   "metadata": {},
   "outputs": [
    {
     "name": "stdout",
     "output_type": "stream",
     "text": [
      " Digite um teto para a sequência de Fibonacci :21\n",
      "[1, 1, 2, 3, 5, 8, 13, 21]\n"
     ]
    }
   ],
   "source": [
    "n =int( input(\" Digite um teto para a sequência de Fibonacci :\"))\n",
    "t1 = 1\n",
    "t2 = 0\n",
    "t3 = 0\n",
    "t4 = []\n",
    "\n",
    "while t1 <= n:\n",
    "    t4.append(t1)\n",
    "    t3 = t1 + t2\n",
    "    t2 = t1\n",
    "    t1 = t3\n",
    "\n",
    "print(t4)"
   ]
  }
 ],
 "metadata": {
  "kernelspec": {
   "display_name": "Python 3",
   "language": "python",
   "name": "python3"
  },
  "language_info": {
   "codemirror_mode": {
    "name": "ipython",
    "version": 3
   },
   "file_extension": ".py",
   "mimetype": "text/x-python",
   "name": "python",
   "nbconvert_exporter": "python",
   "pygments_lexer": "ipython3",
   "version": "3.7.6"
  }
 },
 "nbformat": 4,
 "nbformat_minor": 4
}
