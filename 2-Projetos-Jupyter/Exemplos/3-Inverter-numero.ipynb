{
 "cells": [
  {
   "cell_type": "code",
   "execution_count": 332,
   "metadata": {},
   "outputs": [
    {
     "name": "stdout",
     "output_type": "stream",
     "text": [
      "Digite um número: 789\n"
     ]
    }
   ],
   "source": [
    "numero = []\n",
    "numero = int(input('Digite um número: '))"
   ]
  },
  {
   "cell_type": "code",
   "execution_count": 333,
   "metadata": {},
   "outputs": [
    {
     "data": {
      "text/plain": [
       "'7'"
      ]
     },
     "execution_count": 333,
     "metadata": {},
     "output_type": "execute_result"
    }
   ],
   "source": [
    "str(numero) # convertendo para string\n",
    "len(str(numero)) # imprimir o \"comprimento\" da string\n",
    "str(numero)[0] # imprimindo o indice 0 da string"
   ]
  },
  {
   "cell_type": "code",
   "execution_count": 334,
   "metadata": {},
   "outputs": [],
   "source": [
    "# pegando o ultimo valor da string.\n",
    "# [(len(str(numero))-1)] - ultimo indice da string. -1 pq ficaria (\"comprimento\" da string - 1) = (ultimo indice da string), \n",
    "# pois começa com 0.\n",
    "\n",
    "a = len(str(numero)) # comprimento da lista(string)\n",
    "b = str(numero)[(a-1)] # ultimo valor da string\n",
    "\n",
    "# print(a, end='')\n",
    "# print('\\n' + b)"
   ]
  },
  {
   "cell_type": "code",
   "execution_count": 335,
   "metadata": {},
   "outputs": [],
   "source": [
    "# a = int(a) # transformando o a para inteiro"
   ]
  },
  {
   "cell_type": "code",
   "execution_count": 336,
   "metadata": {},
   "outputs": [],
   "source": [
    "# for i in str(numero): # imprimendo todos os valores de da lista numero\n",
    "#     print(i)"
   ]
  },
  {
   "cell_type": "code",
   "execution_count": 337,
   "metadata": {},
   "outputs": [
    {
     "name": "stdout",
     "output_type": "stream",
     "text": [
      "987"
     ]
    }
   ],
   "source": [
    "lista = []\n",
    "x = 1\n",
    "for i in str(numero):\n",
    "#     print(str(numero)[(len(str(numero))-x)])\n",
    "#     te.append(str(numero)[(len(str(numero))-x)])\n",
    "\n",
    "    print(str(numero)[(a-x)], end=\"\") # comprimento da string - 1 = ultimo valor da string, -2 = antepenúltimo e assim...\n",
    "    lista.append(str(numero)[(a-x)]) # adiciona cada um desses valores em uma lista\n",
    "    \n",
    "    x = x + 1"
   ]
  },
  {
   "cell_type": "code",
   "execution_count": 338,
   "metadata": {},
   "outputs": [],
   "source": [
    "# print(lista) = imprimindo os valores da lista "
   ]
  },
  {
   "cell_type": "code",
   "execution_count": 339,
   "metadata": {},
   "outputs": [],
   "source": [
    "tt = numero\n",
    "# print(tt)"
   ]
  },
  {
   "cell_type": "code",
   "execution_count": 340,
   "metadata": {},
   "outputs": [
    {
     "name": "stdout",
     "output_type": "stream",
     "text": [
      "Inverso de 789 é:  987"
     ]
    }
   ],
   "source": [
    "print('Inverso de {}' .format(tt) , end=\" é:  \" )\n",
    "\n",
    "for i in lista:\n",
    "    print(i , end=\"\")"
   ]
  },
  {
   "cell_type": "code",
   "execution_count": 341,
   "metadata": {},
   "outputs": [],
   "source": [
    "# t = ['rafa', 'lol']\n",
    "# t.append('ra')\n",
    "# len(t)"
   ]
  }
 ],
 "metadata": {
  "kernelspec": {
   "display_name": "Python 3",
   "language": "python",
   "name": "python3"
  },
  "language_info": {
   "codemirror_mode": {
    "name": "ipython",
    "version": 3
   },
   "file_extension": ".py",
   "mimetype": "text/x-python",
   "name": "python",
   "nbconvert_exporter": "python",
   "pygments_lexer": "ipython3",
   "version": "3.6.5"
  }
 },
 "nbformat": 4,
 "nbformat_minor": 2
}
