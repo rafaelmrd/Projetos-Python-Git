{
 "cells": [
  {
   "cell_type": "code",
   "execution_count": 1,
   "metadata": {},
   "outputs": [],
   "source": [
    "def teste(a, b): # Criando uma função teste.\n",
    "    valor1 = a # Variáveis locais.\n",
    "    valor2 = b\n",
    "    soma = valor1 + valor2\n",
    "    return soma"
   ]
  },
  {
   "cell_type": "code",
   "execution_count": 30,
   "metadata": {
    "scrolled": true
   },
   "outputs": [
    {
     "name": "stdout",
     "output_type": "stream",
     "text": [
      "Primeiro teste\n"
     ]
    }
   ],
   "source": [
    "print('Primeiro teste')\n",
    "a = teste(1,2) # Chamando a função teste. Instanciando teste na variável a(objeto)."
   ]
  },
  {
   "cell_type": "code",
   "execution_count": 32,
   "metadata": {
    "scrolled": true
   },
   "outputs": [
    {
     "data": {
      "text/plain": [
       "3"
      ]
     },
     "execution_count": 32,
     "metadata": {},
     "output_type": "execute_result"
    }
   ],
   "source": [
    "a"
   ]
  },
  {
   "cell_type": "code",
   "execution_count": null,
   "metadata": {},
   "outputs": [],
   "source": [
    "soma # Da erro pq a variável soma é local."
   ]
  },
  {
   "cell_type": "code",
   "execution_count": 41,
   "metadata": {},
   "outputs": [],
   "source": [
    "# Classes e métodos\n",
    "class Classe:\n",
    "    def teste2(self, a, b): # Parametros/atributos(variáveis dentro da class).\n",
    "        valor1 = a\n",
    "        valor2 = b\n",
    "        soma = valor1 + valor2\n",
    "        return soma"
   ]
  },
  {
   "cell_type": "code",
   "execution_count": 42,
   "metadata": {},
   "outputs": [],
   "source": [
    "# Da mesma forma que os Métodos sao uma função dentro de uma classe, atributos sao as variaveis dentro das classes.\n",
    "# Método é uma função dentro de uma classe.\n",
    "\n",
    "a = Classe() # Instanciando a classe Classe no meu objeto (a). Usamos as classes dentro dos objetos.\n",
    "# toda minha classe, metodos e atributos que estou criando dentro da classe estao dentro da variavel (a).\n",
    "# o (a) é uma classe.\n",
    "\n",
    "b = a.teste2(2, 2) # Chamando o método teste2 dentro da class Classe.\n",
    "# O objeto (b) é a aplicação do metodo teste2 que pertence a class.\n",
    "\n",
    "c = Classe().teste2(2, 2) # Passei dois atributos para o método teste2."
   ]
  },
  {
   "cell_type": "code",
   "execution_count": 44,
   "metadata": {},
   "outputs": [
    {
     "data": {
      "text/plain": [
       "4"
      ]
     },
     "execution_count": 44,
     "metadata": {},
     "output_type": "execute_result"
    }
   ],
   "source": [
    "b"
   ]
  },
  {
   "cell_type": "code",
   "execution_count": 51,
   "metadata": {},
   "outputs": [
    {
     "data": {
      "text/plain": [
       "4"
      ]
     },
     "execution_count": 51,
     "metadata": {},
     "output_type": "execute_result"
    }
   ],
   "source": [
    "c"
   ]
  },
  {
   "cell_type": "code",
   "execution_count": null,
   "metadata": {},
   "outputs": [],
   "source": [
    "soma # Da erro pq a variável soma é local."
   ]
  },
  {
   "cell_type": "code",
   "execution_count": 64,
   "metadata": {},
   "outputs": [],
   "source": [
    "# Classes e métodos\n",
    "class Classe:\n",
    "    def teste3(self, a, b): # Parametros/atributos(variáveis dentro da class).\n",
    "        self.valor1 = a\n",
    "        self.valor2 = b\n",
    "        self.soma = self.valor1 + self.valor2\n",
    "        return self.soma"
   ]
  },
  {
   "cell_type": "code",
   "execution_count": 70,
   "metadata": {},
   "outputs": [],
   "source": [
    "a = Classe()"
   ]
  },
  {
   "cell_type": "code",
   "execution_count": 76,
   "metadata": {},
   "outputs": [],
   "source": [
    "b = a.teste3(5, 2)"
   ]
  },
  {
   "cell_type": "code",
   "execution_count": 72,
   "metadata": {},
   "outputs": [],
   "source": [
    "b = Classe().teste3(2, 2)"
   ]
  },
  {
   "cell_type": "code",
   "execution_count": 73,
   "metadata": {},
   "outputs": [
    {
     "data": {
      "text/plain": [
       "4"
      ]
     },
     "execution_count": 73,
     "metadata": {},
     "output_type": "execute_result"
    }
   ],
   "source": [
    "b"
   ]
  },
  {
   "cell_type": "code",
   "execution_count": 81,
   "metadata": {},
   "outputs": [],
   "source": [
    "# self - dele mesmo.\n",
    "\n",
    "# self.valor1, faz com que o objeto (a) que foi instanciado(a da minha classe),\n",
    "# esse objeto (a) vai ter um valor associado a ele, e esse valor é o proprio valor1.\n",
    "\n",
    "# quando eu coloco a = Classe()(o objeto (a) instanciou a classe Class), estou dizendo que \n",
    "# o self é o proprio (a)(self é o objeto (a)).\n",
    "\n",
    "# self.valor1 é como se eu estivesse falando a.valor1.\n",
    "# esse valor1 ficou associado ao meu objeto a.\n",
    "\n",
    "# criar a variavel valor assim: self.valor1, significa a.valor1, a.valor2, ...\n",
    "\n",
    "# Costuma-se chamar o primeiro parâmetro de self porque a maioria dos programadores Python já \n",
    "# reconhece esse nome como o nome do objeto a ser invocado no método.\n",
    "\n",
    "# \n",
    "# \n"
   ]
  },
  {
   "cell_type": "code",
   "execution_count": 77,
   "metadata": {},
   "outputs": [
    {
     "data": {
      "text/plain": [
       "5"
      ]
     },
     "execution_count": 77,
     "metadata": {},
     "output_type": "execute_result"
    }
   ],
   "source": [
    "a.valor1"
   ]
  },
  {
   "cell_type": "code",
   "execution_count": 80,
   "metadata": {},
   "outputs": [
    {
     "data": {
      "text/plain": [
       "2"
      ]
     },
     "execution_count": 80,
     "metadata": {},
     "output_type": "execute_result"
    }
   ],
   "source": [
    "a.valor2"
   ]
  }
 ],
 "metadata": {
  "kernelspec": {
   "display_name": "Python 3",
   "language": "python",
   "name": "python3"
  },
  "language_info": {
   "codemirror_mode": {
    "name": "ipython",
    "version": 3
   },
   "file_extension": ".py",
   "mimetype": "text/x-python",
   "name": "python",
   "nbconvert_exporter": "python",
   "pygments_lexer": "ipython3",
   "version": "3.7.6"
  }
 },
 "nbformat": 4,
 "nbformat_minor": 4
}
