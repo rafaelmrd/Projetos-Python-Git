{
 "cells": [
  {
   "cell_type": "code",
   "execution_count": 1,
   "metadata": {},
   "outputs": [],
   "source": [
    "# Link do desafio no Kaggle:\n",
    "# https://www.kaggle.com/c/titanic/overview/description"
   ]
  },
  {
   "cell_type": "code",
   "execution_count": null,
   "metadata": {},
   "outputs": [],
   "source": [
    "# DESAFIO:\n",
    "# A competição é simples: use o aprendizado de máquina para criar um modelo que preveja quais passageiros\n",
    "# sobreviveram ao naufrágio do Titanic.\n",
    "\n",
    "# Nesse desafio, pedimos que você construa um modelo preditivo que responda à pergunta: \n",
    "# \"que tipo de pessoas têm mais probabilidade de sobreviver?\" usando dados de passageiros (nome, idade, sexo, classe socioeconômica etc.)."
   ]
  },
  {
   "cell_type": "code",
   "execution_count": null,
   "metadata": {},
   "outputs": [],
   "source": [
    "# Titanic Tutorial:\n",
    "# https://www.kaggle.com/alexisbcook/titanic-tutorial\n",
    "    \n",
    "# Série de tutoriais do Titanic para iniciantes!:\n",
    "# https://www.kaggle.com/c/titanic/discussion/141477"
   ]
  },
  {
   "cell_type": "code",
   "execution_count": null,
   "metadata": {},
   "outputs": [],
   "source": []
  },
  {
   "cell_type": "code",
   "execution_count": null,
   "metadata": {},
   "outputs": [],
   "source": []
  }
 ],
 "metadata": {
  "kernelspec": {
   "display_name": "Python 3",
   "language": "python",
   "name": "python3"
  },
  "language_info": {
   "codemirror_mode": {
    "name": "ipython",
    "version": 3
   },
   "file_extension": ".py",
   "mimetype": "text/x-python",
   "name": "python",
   "nbconvert_exporter": "python",
   "pygments_lexer": "ipython3",
   "version": "3.7.6"
  }
 },
 "nbformat": 4,
 "nbformat_minor": 4
}
