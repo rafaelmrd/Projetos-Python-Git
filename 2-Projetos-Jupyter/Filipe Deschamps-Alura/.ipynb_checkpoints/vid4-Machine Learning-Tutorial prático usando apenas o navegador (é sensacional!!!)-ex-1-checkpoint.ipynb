{
 "cells": [
  {
   "cell_type": "code",
   "execution_count": 1,
   "metadata": {},
   "outputs": [
    {
     "data": {
      "text/plain": [
       "'Machine-Learning:-Tutorial-prático-usando-apenas-o-navegador-(é-sensacional!!!)'"
      ]
     },
     "execution_count": 1,
     "metadata": {},
     "output_type": "execute_result"
    }
   ],
   "source": [
    "# Machine Learning: Tutorial prático usando apenas o navegador (é sensacional!!!)\n",
    "# https://www.youtube.com/watch?v=JyGGMyR3x5I&list=PLMdYygf53DP7YZiFUtGTWJJlvynRyrna-&index=4\n",
    "tt = 'Machine Learning: Tutorial prático usando apenas o navegador (é sensacional!!!)'\n",
    "tt2 = tt.replace(' ','-')\n",
    "tt2\n",
    "# Até os 19:40 Minutos"
   ]
  },
  {
   "cell_type": "code",
   "execution_count": null,
   "metadata": {},
   "outputs": [],
   "source": [
    "# Classificação binária.\n",
    "# Representar um animal com algum tipo de caracteristicas e verificar se o algoritmo é capaz de aprender qual é cada animal."
   ]
  },
  {
   "cell_type": "code",
   "execution_count": 2,
   "metadata": {},
   "outputs": [],
   "source": [
    "# Animais: Porco, Cachorro e Gato.\n",
    "# Caracteristicas: 0 se não tem e 1 se tem.\n",
    "\n",
    "# 1-Pelo longo?\n",
    "# 2-Perna curta?\n",
    "# 3-Faz auau?\n",
    "# 4-Faz miau?\n",
    "# 5-Peso acima do normal?\n",
    "\n",
    "# animal = [1, 2, 3, 4, 5]"
   ]
  },
  {
   "cell_type": "code",
   "execution_count": 1,
   "metadata": {},
   "outputs": [],
   "source": [
    "porco1 = [1, 1, 0, 0, 1]\n",
    "porco2 = [0, 1, 0, 0, 1]\n",
    "porco3 = [0, 1, 0, 0, 0]\n",
    "porco4 = [1, 1, 0, 0, 0]\n",
    "porco5 = [0, 1, 0, 0, 0]\n",
    "\n",
    "cachorro1 = [1, 1, 1, 0, 1]\n",
    "cachorro2 = [1, 1, 1, 0, 0]\n",
    "cachorro3 = [0, 1, 1, 0, 1]\n",
    "cachorro4 = [1, 0, 1, 0, 1]\n",
    "cachorro5 = [0, 1, 1, 0, 0]\n",
    "\n",
    "gato1 = [1, 1, 0, 1, 1]\n",
    "gato2 = [1, 1, 0, 1, 0]\n",
    "gato3 = [0, 1, 0, 1, 1]\n",
    "gato4 = [1, 0, 0, 1, 1]\n",
    "gato5 = [0, 1, 0, 1, 0]"
   ]
  },
  {
   "cell_type": "code",
   "execution_count": 2,
   "metadata": {},
   "outputs": [],
   "source": [
    "# Dados para treinar o algoritmo\n",
    "treino_x = [porco1, porco2, porco3, porco4, porco5, cachorro1, cachorro2, cachorro3, cachorro4, cachorro5, gato1, gato2, gato3, gato4, gato5]"
   ]
  },
  {
   "cell_type": "code",
   "execution_count": 3,
   "metadata": {},
   "outputs": [],
   "source": [
    "# 0: Porco; 1: Cachorro; 2: Gato\n",
    "treino_y = [0, 0, 0, 0, 0, 1, 1, 1, 1, 1, 2, 2, 2, 2, 2]\n",
    "\n",
    "# Para cada valor do treino_x, ele me retorna um valor em treino_y, sendo que porco1 = 0(primeiro valor da lista, e assim por diantes.)\n",
    "# Queremos uma função que mapeia treino_x e devolve treino_y.\n",
    "# Mapeia 5 variáveis em 0, 1 ou 2.\n",
    "# Peço para o algoritmo analisar as 5 variáveis e me responde se é 0, 1 ou 2 (porco, cachorro ou gato).\n",
    "# Recebe x e devolve y."
   ]
  },
  {
   "cell_type": "code",
   "execution_count": 5,
   "metadata": {},
   "outputs": [
    {
     "data": {
      "text/plain": [
       "LinearSVC(C=1.0, class_weight=None, dual=True, fit_intercept=True,\n",
       "          intercept_scaling=1, loss='squared_hinge', max_iter=1000,\n",
       "          multi_class='ovr', penalty='l2', random_state=None, tol=0.0001,\n",
       "          verbose=0)"
      ]
     },
     "execution_count": 5,
     "metadata": {},
     "output_type": "execute_result"
    }
   ],
   "source": [
    "from sklearn.svm import LinearSVC # Função\n",
    "\n",
    "modelo = LinearSVC() # É tipo um cérebro vazio(Não foi treinado).\n",
    "modelo.fit(treino_x, treino_y) # Faz um treino do treino_x e treino_y.\n"
   ]
  },
  {
   "cell_type": "code",
   "execution_count": 8,
   "metadata": {},
   "outputs": [],
   "source": [
    "# Pegando um animal misterioso, ele tem as seguintes propriedades.\n",
    "# Tem: Pelo longo, Perna curta, Faz auau. Não tem: Faz miau, Peso acima do normal.\n",
    "animal_misterioso = [1, 1, 1, 0, 0] # Cachorro: 1\n",
    "\n",
    "# 1-Pelo longo?  2-Perna curta?  3-Faz auau? # -Faz miau?  5-Peso acima do normal?\n",
    "# animal = [1, 2, 3, 4, 5]"
   ]
  },
  {
   "cell_type": "markdown",
   "metadata": {},
   "source": [
    "##### Verificando se o algoritmo validou(resultado)"
   ]
  },
  {
   "cell_type": "code",
   "execution_count": 9,
   "metadata": {},
   "outputs": [
    {
     "data": {
      "text/plain": [
       "array([1])"
      ]
     },
     "execution_count": 9,
     "metadata": {},
     "output_type": "execute_result"
    }
   ],
   "source": [
    "# Verificar o que o modelo irá predizer com base nos dados.\n",
    "modelo.predict([animal_misterioso])\n",
    "\n",
    "# 0: Porco; 1: Cachorro; 2: Gato"
   ]
  },
  {
   "cell_type": "markdown",
   "metadata": {},
   "source": [
    "##### Ter o cuidado de não fazer o algoritmo decorar no lugar de aprender, pois se ele treinou com o mesmo dado de teste, bem provavel que ele(algoritmo) esta decorando/viciado."
   ]
  },
  {
   "cell_type": "code",
   "execution_count": 11,
   "metadata": {},
   "outputs": [],
   "source": [
    "animal_misterioso1 = [1, 1, 0, 1, 0] # 0: Porco\n",
    "animal_misterioso2 = [1, 1, 0, 0, 0] # 1: Cachorro\n",
    "animal_misterioso3 = [1, 1, 1, 1, 0] # 2: Gato\n",
    "\n",
    "teste_x = [animal_misterioso1, animal_misterioso2, animal_misterioso3] # Testar esses animais, para verificar qual o animal correto.\n",
    "teste_y = [2, 0, 1] # O que eu sei de verdade. (gato, porco, cachorro)"
   ]
  },
  {
   "cell_type": "markdown",
   "metadata": {},
   "source": [
    "##### Verificando se o algoritmo validou(resultado)"
   ]
  },
  {
   "cell_type": "code",
   "execution_count": 12,
   "metadata": {},
   "outputs": [
    {
     "data": {
      "text/plain": [
       "array([2, 0, 1])"
      ]
     },
     "execution_count": 12,
     "metadata": {},
     "output_type": "execute_result"
    }
   ],
   "source": [
    "previsoes = modelo.predict(teste_x)\n",
    "previsoes # Resultado que o algoritmo encontrou apos analisar os dados. (100% de acerto)"
   ]
  },
  {
   "cell_type": "code",
   "execution_count": 16,
   "metadata": {},
   "outputs": [
    {
     "data": {
      "text/plain": [
       "1.0"
      ]
     },
     "execution_count": 16,
     "metadata": {},
     "output_type": "execute_result"
    }
   ],
   "source": [
    "# Verificar a taxa de acerto com a acurácia\n",
    "from sklearn.metrics import accuracy_score\n",
    "\n",
    "accuracy_score(teste_y, previsoes) # Comparando o que eu sei, com as previsoes.\n",
    "# 100% de acerto = 1.0"
   ]
  },
  {
   "cell_type": "code",
   "execution_count": null,
   "metadata": {},
   "outputs": [],
   "source": []
  },
  {
   "cell_type": "code",
   "execution_count": null,
   "metadata": {},
   "outputs": [],
   "source": []
  },
  {
   "cell_type": "code",
   "execution_count": null,
   "metadata": {},
   "outputs": [],
   "source": []
  },
  {
   "cell_type": "markdown",
   "metadata": {},
   "source": [
    "##### Usando outra função"
   ]
  },
  {
   "cell_type": "code",
   "execution_count": 26,
   "metadata": {},
   "outputs": [],
   "source": [
    "from sklearn.model_selection import train_test_split\n",
    "\n",
    "# Criando os conjuntos de dados de treino e teste:\n",
    "\n",
    "# train_test_split: método para testar.\n",
    "x_treino, x_teste, y_treino, y_teste = train_test_split(treino_x, treino_y, test_size = 0.3)\n",
    "\n",
    "# dados de entrada, var. x, var. alvo y, 30% para teste e 70% para treinar."
   ]
  },
  {
   "cell_type": "code",
   "execution_count": 27,
   "metadata": {},
   "outputs": [
    {
     "name": "stdout",
     "output_type": "stream",
     "text": [
      "Acurácia:  1.0\n"
     ]
    }
   ],
   "source": [
    "# ExtraTreesClassifier: Algoritmo de Machine Learning(árvore de decisão).\n",
    "\n",
    "from sklearn.ensemble import ExtraTreesClassifier\n",
    "# Criação do modelo:\n",
    "\n",
    "# modelo ira receber a função ExtraTreesClassifier().\n",
    "modelo = ExtraTreesClassifier()\n",
    "\n",
    "# Aplicar o algoritmo aos dados(x_treino e y_treino). Aprendeu a relação dos dados.\n",
    "modelo.fit(x_treino, y_treino)\n",
    "\n",
    "# Imprimindo resultado:\n",
    "\n",
    "# Função score: Ira pegar o conjunto de dados de teste(x_teste) e comparar com o conjunto de dados corretos(y_teste)\n",
    "resultado = modelo.score(x_teste, y_teste)\n",
    "print('Acurácia: ', resultado)"
   ]
  },
  {
   "cell_type": "code",
   "execution_count": 24,
   "metadata": {},
   "outputs": [
    {
     "data": {
      "text/plain": [
       "[[1, 1, 0, 1, 0]]"
      ]
     },
     "execution_count": 24,
     "metadata": {},
     "output_type": "execute_result"
    }
   ],
   "source": [
    "x_teste"
   ]
  },
  {
   "cell_type": "code",
   "execution_count": 25,
   "metadata": {},
   "outputs": [
    {
     "data": {
      "text/plain": [
       "[2]"
      ]
     },
     "execution_count": 25,
     "metadata": {},
     "output_type": "execute_result"
    }
   ],
   "source": [
    "y_teste"
   ]
  }
 ],
 "metadata": {
  "kernelspec": {
   "display_name": "Python 3",
   "language": "python",
   "name": "python3"
  },
  "language_info": {
   "codemirror_mode": {
    "name": "ipython",
    "version": 3
   },
   "file_extension": ".py",
   "mimetype": "text/x-python",
   "name": "python",
   "nbconvert_exporter": "python",
   "pygments_lexer": "ipython3",
   "version": "3.7.6"
  }
 },
 "nbformat": 4,
 "nbformat_minor": 4
}
